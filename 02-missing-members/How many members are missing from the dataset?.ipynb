{
 "cells": [
  {
   "cell_type": "markdown",
   "metadata": {},
   "source": [
    "# Predict the number of members missing from the dataset\n",
    "\n",
    "We've discovered that approximately 82 percent of the logbook subscription events survived. Since all members would have been listed in the logbooks, can we guess what proportion of the membership we have?"
   ]
  },
  {
   "cell_type": "code",
   "execution_count": 1,
   "metadata": {},
   "outputs": [],
   "source": [
    "import pandas as pd"
   ]
  },
  {
   "cell_type": "code",
   "execution_count": 2,
   "metadata": {},
   "outputs": [],
   "source": [
    "LOGBOOK_PROPORTION_ESTIMATE = 0.8165"
   ]
  },
  {
   "cell_type": "code",
   "execution_count": 3,
   "metadata": {},
   "outputs": [],
   "source": [
    "csv_urls = {\n",
    "    'members': 'https://dataspace.princeton.edu/bitstream/88435/dsp01b5644v608/2/SCoData_members_v1.1_2021-01.csv',\n",
    "    'books': 'https://dataspace.princeton.edu/bitstream/88435/dsp016d570067j/2/SCoData_books_v1.1_2021-01.csv',\n",
    "    'events': 'https://dataspace.princeton.edu/bitstream/88435/dsp012n49t475g/2/SCoData_events_v1.1_2021-01.csv'\n",
    "\n",
    "}\n",
    "\n",
    "# load members, books, events as csv\n",
    "members_df = pd.read_csv(csv_urls['members'])\n",
    "books_df = pd.read_csv(csv_urls['books'])\n",
    "events_df = pd.read_csv(csv_urls['events'])"
   ]
  },
  {
   "cell_type": "code",
   "execution_count": 9,
   "metadata": {},
   "outputs": [
    {
     "data": {
      "text/plain": [
       "5016"
      ]
     },
     "execution_count": 9,
     "metadata": {},
     "output_type": "execute_result"
    }
   ],
   "source": [
    "# How many members are sourced from the logbooks?\n",
    "logbooks = events_df[events_df['source_type'].str.contains('Logbook')]\n",
    "\n",
    "logbook_members = set()\n",
    "for member_uris in logbooks['member_uris']:\n",
    "    for member in member_uris.split(';'):\n",
    "        logbook_members.add(member)\n",
    "\n",
    "logbook_member_count = len(logbook_members)\n",
    "logbook_member_count"
   ]
  },
  {
   "cell_type": "code",
   "execution_count": 10,
   "metadata": {},
   "outputs": [
    {
     "data": {
      "text/plain": [
       "6143"
      ]
     },
     "execution_count": 10,
     "metadata": {},
     "output_type": "execute_result"
    }
   ],
   "source": [
    "# Given the proportion of logbooks that we think we have, what is the size of the community?\n",
    "community_estimate = round(logbook_member_count / LOGBOOK_PROPORTION_ESTIMATE)\n",
    "community_estimate"
   ]
  },
  {
   "cell_type": "code",
   "execution_count": 11,
   "metadata": {},
   "outputs": [
    {
     "data": {
      "text/plain": [
       "5601"
      ]
     },
     "execution_count": 11,
     "metadata": {},
     "output_type": "execute_result"
    }
   ],
   "source": [
    "# What is the total number of people that we have names for in the community?\n",
    "dataset_community_count = members_df['uri'].unique().shape[0]\n",
    "dataset_community_count"
   ]
  },
  {
   "cell_type": "code",
   "execution_count": 12,
   "metadata": {},
   "outputs": [
    {
     "data": {
      "text/plain": [
       "91.18"
      ]
     },
     "execution_count": 12,
     "metadata": {},
     "output_type": "execute_result"
    }
   ],
   "source": [
    "# What proportion of the entire community do we have?\n",
    "round(dataset_community_count / community_estimate * 100, 2)"
   ]
  }
 ],
 "metadata": {
  "kernelspec": {
   "display_name": "Python 3",
   "language": "python",
   "name": "python3"
  },
  "language_info": {
   "codemirror_mode": {
    "name": "ipython",
    "version": 3
   },
   "file_extension": ".py",
   "mimetype": "text/x-python",
   "name": "python",
   "nbconvert_exporter": "python",
   "pygments_lexer": "ipython3",
   "version": "3.7.6"
  }
 },
 "nbformat": 4,
 "nbformat_minor": 4
}
