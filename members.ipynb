{
 "cells": [
  {
   "cell_type": "markdown",
   "source": [
    "# Predict the number of members missing from the dataset\n",
    "\n",
    "We've discovered that approximately 88 percent of the logbook subscription events survived. Since all members would have been listed in the logbooks, can we guess what proportion of the membership we have? Use the marginal increase of the number of members given the number of logbook events to determine the number of missing members.\n",
    "\n",
    "**Givens**\n",
    "* `surviving_members_count`\n",
    "* `surviving_logbook_event_count`\n",
    "* `surviving_members_from_logbooks_count`\n",
    "* `total_logbook_event_count`\n",
    "\n",
    "**Assuming**\n",
    "* `total_logbook_member_count == member_count`\n",
    "\n",
    "**Find**\n",
    "* `percent_surviving_members`"
   ],
   "metadata": {}
  },
  {
   "cell_type": "code",
   "execution_count": 3,
   "source": [
    "import pandas as pd"
   ],
   "outputs": [],
   "metadata": {}
  },
  {
   "cell_type": "code",
   "execution_count": 4,
   "source": [
    "csv_urls = {\n",
    "    'members': 'https://dataspace.princeton.edu/bitstream/88435/dsp01b5644v608/2/SCoData_members_v1.1_2021-01.csv',\n",
    "    'books': 'https://dataspace.princeton.edu/bitstream/88435/dsp016d570067j/2/SCoData_books_v1.1_2021-01.csv',\n",
    "    'events': 'https://dataspace.princeton.edu/bitstream/88435/dsp012n49t475g/2/SCoData_events_v1.1_2021-01.csv'\n",
    "\n",
    "}\n",
    "\n",
    "# load members, books, events as csv\n",
    "members_df = pd.read_csv(csv_urls['members'])\n",
    "books_df = pd.read_csv(csv_urls['books'])\n",
    "events_df = pd.read_csv(csv_urls['events'])"
   ],
   "outputs": [],
   "metadata": {}
  },
  {
   "cell_type": "code",
   "execution_count": 5,
   "source": [
    "LOGBOOK_PROPORTION_ESTIMATE = 0.8826"
   ],
   "outputs": [],
   "metadata": {}
  },
  {
   "cell_type": "code",
   "execution_count": 6,
   "source": [
    "# Givens by query\n",
    "surviving_members_count = members_df.shape[0]\n",
    "surviving_logbook_event_count = events_df.shape[0]\n",
    "surviving_members_from_logbooks_count = len(set([uri for member_list in events_df[events_df['source_type'].str.contains('Logbook')]['member_uris'].str.split(';').tolist() for uri in member_list]))\n",
    "\n",
    "# Givens by previous estimate\n",
    "total_logbook_event_count = int(events_df.shape[0] / LOGBOOK_PROPORTION_ESTIMATE)\n",
    "\n",
    "# Calculations\n",
    "n_members_per_logbook_event = surviving_members_from_logbooks_count / surviving_logbook_event_count\n",
    "total_logbook_member_count  = total_logbook_event_count * n_members_per_logbook_event\n",
    "total_member_count = total_logbook_member_count  # Key assumption by definition\n",
    "percent_surviving_members = round(surviving_members_count / total_member_count * 100, 2)\n",
    "\n",
    "# Results\n",
    "print(f'Surviving number of logbook events: {surviving_logbook_event_count}')\n",
    "print(f'Total logbook event count estimate: {total_logbook_event_count}')\n",
    "print(f'Total number of surviving members: {surviving_members_count}')\n",
    "print(f'Number of members sourced from the logbooks: {surviving_members_from_logbooks_count}')\n",
    "print(f'Number of unique members per logbook event: {n_members_per_logbook_event}')\n",
    "print(f'Estimate of the total member count: {int(total_member_count)}')\n",
    "print(f'Estimate of the percent of total members that survived: {percent_surviving_members}')"
   ],
   "outputs": [
    {
     "output_type": "stream",
     "name": "stdout",
     "text": [
      "Surviving number of logbook events: 35031\n",
      "Total logbook event count estimate: 39690\n",
      "Total number of surviving members: 5601\n",
      "Number of members sourced from the logbooks: 5016\n",
      "Number of unique members per logbook event: 0.1431874625331849\n",
      "Estimate of the total member count: 5683\n",
      "Estimate of the percent of total members that survived: 98.56\n"
     ]
    }
   ],
   "metadata": {}
  },
  {
   "cell_type": "markdown",
   "source": [
    "## Shared Account Info"
   ],
   "metadata": {}
  },
  {
   "cell_type": "code",
   "execution_count": 7,
   "source": [
    "# How many shared accounts are there?\n",
    "shared_accounts = events_df[events_df['member_uris'].str.contains(';')]['member_uris'].unique()\n",
    "shared_account_members = {uri for account in shared_accounts for uri in account.split(';')}\n",
    "print(f'Shared accounts: {len(shared_accounts)}')\n",
    "print(f'Across {len(shared_account_members)} members')\n",
    "# Double check that all accounts were shared between two people\n",
    "assert all([len(account.split(';')) == 2 for account in shared_accounts])"
   ],
   "outputs": [
    {
     "output_type": "stream",
     "name": "stdout",
     "text": [
      "Shared accounts: 29\n",
      "Across 58 members\n"
     ]
    }
   ],
   "metadata": {}
  },
  {
   "cell_type": "markdown",
   "source": [
    "## Address Book Comparison"
   ],
   "metadata": {}
  },
  {
   "cell_type": "code",
   "execution_count": 33,
   "source": [
    "def get_members_from_events(df):\n",
    "    return set([uri for member_list in df['member_uris'].str.split(';').tolist() for uri in member_list])\n",
    "\n",
    "events_df['start_date_dt'] = pd.to_datetime(events_df['start_date'], errors='coerce')\n",
    "events_df['end_date_dt'] = pd.to_datetime(events_df['end_date'], errors='coerce')\n",
    "\n",
    "\n",
    "# How many people were added from 1919–1935?\n",
    "events_df_1919_1935 = events_df[(events_df['start_date_dt'] >= pd.to_datetime('1919-01-01')) & (events_df['start_date_dt'] <= pd.to_datetime('1935-12-31'))]\n",
    "address_book_1919_1935_members = get_members_from_events(events_df_1919_1935[events_df_1919_1935['source_type'] == 'Address Book'])\n",
    "percent_added_from_address_books = round(len(address_book_1919_1935_members) / len(get_members_from_events(events_df_1919_1935)) * 100, 2)\n",
    "print(f'From 1919 to 1935, {percent_added_from_address_books} percent of members came exclusively from address books')\n",
    "\n",
    "# How many people were added from 1935–1937?\n",
    "events_df_1935_1937 = events_df[(events_df['start_date_dt'] >= pd.to_datetime('1935-01-01')) & (events_df['start_date_dt'] <= pd.to_datetime('1937-12-31'))]\n",
    "address_book_1935_1937_members = get_members_from_events(events_df_1935_1937[events_df_1935_1937['source_type'] == 'Address Book'])\n",
    "percent_added_from_address_books = round(len(address_book_1935_1937_members) / len(get_members_from_events(events_df_1919_1935)) * 100, 2)\n",
    "print(f'From 1935 to 1937, {percent_added_from_address_books} percent of members came exclusively from address books')"
   ],
   "outputs": [
    {
     "output_type": "stream",
     "name": "stdout",
     "text": [
      "From 1919 to 1935, 5.78 percent of members came exclusively from address books\n",
      "From 1935 to 1937, 2.13 percent of members came exclusively from address books\n"
     ]
    }
   ],
   "metadata": {}
  }
 ],
 "metadata": {
  "kernelspec": {
   "name": "python3",
   "display_name": "Python 3.7.6 64-bit ('base': conda)"
  },
  "language_info": {
   "codemirror_mode": {
    "name": "ipython",
    "version": 3
   },
   "file_extension": ".py",
   "mimetype": "text/x-python",
   "name": "python",
   "nbconvert_exporter": "python",
   "pygments_lexer": "ipython3",
   "version": "3.7.6"
  },
  "interpreter": {
   "hash": "3573578575fac81f377c7485c4dc718c7f533c6663a440ab670027df27ed6eea"
  }
 },
 "nbformat": 4,
 "nbformat_minor": 4
}